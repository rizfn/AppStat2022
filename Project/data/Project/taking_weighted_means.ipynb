{
 "cells": [
  {
   "cell_type": "code",
   "execution_count": 12,
   "metadata": {},
   "outputs": [],
   "source": [
    "import numpy as np\n",
    "import matplotlib.pyplot as plt\n",
    "from iminuit import Minuit\n",
    "from scipy import stats\n",
    "import sys\n",
    "\n",
    "sys.path.append('../../../External_Functions')\n",
    "from ExternalFunctions import Chi2Regression\n"
   ]
  },
  {
   "cell_type": "code",
   "execution_count": 13,
   "metadata": {},
   "outputs": [],
   "source": [
    "def weighted_mean_chi2(ydata, ysigma, chi = False):\n",
    "    def weight_mean_fit(x,a):\n",
    "        return a\n",
    "    xdata = np.linspace(1, len(ydata), len(ydata))\n",
    "    chi2_obj = Chi2Regression(weight_mean_fit, xdata, ydata, ysigma)\n",
    "    chi2_obj.errordef = 1.0       # Chi2 definition (for Minuit)\n",
    "    minuit = Minuit(chi2_obj, a = 0)\n",
    "    opt = minuit.migrad()  # perform the actual fit\n",
    "    Chi2 = minuit.fval # the chi2 value\n",
    "    Nvar = 1                      # Number of variables (alpha0 and alpha1)\n",
    "    Ndof = len(xdata) - Nvar   # Number of degrees of freedom\n",
    "    Prob = stats.chi2.sf(Chi2, Ndof)\n",
    "    a = minuit.values[0]\n",
    "    sigma_a = minuit.errors[0]\n",
    "    if chi:\n",
    "        return a, sigma_a, Chi2, Prob\n",
    "    else:\n",
    "        return a, sigma_a\n"
   ]
  },
  {
   "cell_type": "markdown",
   "metadata": {},
   "source": [
    "### Diameter of Rail"
   ]
  },
  {
   "cell_type": "code",
   "execution_count": 43,
   "metadata": {},
   "outputs": [
    {
     "data": {
      "text/plain": [
       "(0.6046153846525063,\n",
       " 0.0027735009809872107,\n",
       " 21.230769230769265,\n",
       " 9.427454021062733e-05)"
      ]
     },
     "execution_count": 43,
     "metadata": {},
     "output_type": "execute_result"
    }
   ],
   "source": [
    "y = np.array([0.59, 0.62, 0.62, 0.6])\n",
    "y_err = np.array([0.005, 0.01, 0.005, 0.005])\n",
    "# y_err *= 2\n",
    "\n",
    "weighted_mean_chi2(y, y_err, True)"
   ]
  },
  {
   "cell_type": "markdown",
   "metadata": {},
   "source": [
    "### Diameter of small ball"
   ]
  },
  {
   "cell_type": "code",
   "execution_count": 44,
   "metadata": {},
   "outputs": [
    {
     "data": {
      "text/plain": [
       "(1.2712499999958522,\n",
       " 0.002499999999989235,\n",
       " 0.749999999999968,\n",
       " 0.8613850804045492)"
      ]
     },
     "execution_count": 44,
     "metadata": {},
     "output_type": "execute_result"
    }
   ],
   "source": [
    "y = np.array([1.270, 1.275, 1.270, 1.270])\n",
    "y_err = np.array([0.005, 0.005, 0.005, 0.005])\n",
    "\n",
    "weighted_mean_chi2(y, y_err, True)"
   ]
  },
  {
   "cell_type": "markdown",
   "metadata": {},
   "source": [
    "### Diameter of big ball"
   ]
  },
  {
   "cell_type": "code",
   "execution_count": 45,
   "metadata": {},
   "outputs": [
    {
     "data": {
      "text/plain": [
       "(1.5000000000217613, 0.002500000000001011, 7.576838613314065e-17, 1.0)"
      ]
     },
     "execution_count": 45,
     "metadata": {},
     "output_type": "execute_result"
    }
   ],
   "source": [
    "y = np.array([1.5, 1.5, 1.5, 1.5])\n",
    "y_err = np.array([0.005, 0.005, 0.005, 0.005])\n",
    "\n",
    "weighted_mean_chi2(y, y_err, True)"
   ]
  },
  {
   "cell_type": "markdown",
   "metadata": {},
   "source": [
    "### Angle of rail (goniometer)"
   ]
  },
  {
   "cell_type": "code",
   "execution_count": 46,
   "metadata": {},
   "outputs": [
    {
     "data": {
      "text/plain": [
       "(1.430000000193679,\n",
       " 0.10000000000085844,\n",
       " 0.02000000000000004,\n",
       " 0.9992522446606088)"
      ]
     },
     "execution_count": 46,
     "metadata": {},
     "output_type": "execute_result"
    }
   ],
   "source": [
    "y = np.array([1.41, 1.43, 1.43, 1.45])\n",
    "y_err = np.array([0.2, 0.2, 0.2, 0.2])\n",
    "\n",
    "weighted_mean_chi2(y, y_err, True)"
   ]
  },
  {
   "cell_type": "markdown",
   "metadata": {},
   "source": [
    "### Horizontal length (Pythagoras)"
   ]
  },
  {
   "cell_type": "code",
   "execution_count": 55,
   "metadata": {},
   "outputs": [
    {
     "data": {
      "text/plain": [
       "(89.89999998049272,\n",
       " 0.10000000000140148,\n",
       " 6.875000000000073,\n",
       " 0.07599048680919027)"
      ]
     },
     "execution_count": 55,
     "metadata": {},
     "output_type": "execute_result"
    }
   ],
   "source": [
    "y = np.array([89.5, 89.85, 90.05, 90.20])\n",
    "y_err = np.array([0.1, 0.1, 0.1, 0.1])\n",
    "y_err *= 2\n",
    "\n",
    "weighted_mean_chi2(y, y_err, True)"
   ]
  },
  {
   "cell_type": "markdown",
   "metadata": {},
   "source": [
    "### Vertical height (Pythagoras)"
   ]
  },
  {
   "cell_type": "code",
   "execution_count": 56,
   "metadata": {},
   "outputs": [
    {
     "data": {
      "text/plain": [
       "(22.287500011127776,\n",
       " 0.09999999999752687,\n",
       " 0.17187500000001724,\n",
       " 0.9819965885479922)"
      ]
     },
     "execution_count": 56,
     "metadata": {},
     "output_type": "execute_result"
    }
   ],
   "source": [
    "y = np.array([22.3, 22.35, 22.25, 22.25])\n",
    "y_err = np.array([0.1, 0.1, 0.1, 0.1])\n",
    "y_err *= 2\n",
    "\n",
    "weighted_mean_chi2(y, y_err, True)"
   ]
  },
  {
   "cell_type": "markdown",
   "metadata": {},
   "source": [
    "### Gate 1"
   ]
  },
  {
   "cell_type": "code",
   "execution_count": 49,
   "metadata": {},
   "outputs": [
    {
     "data": {
      "text/plain": [
       "(18.7000000092691, 0.025000000000143376, 1.3746597461072175e-13, 1.0)"
      ]
     },
     "execution_count": 49,
     "metadata": {},
     "output_type": "execute_result"
    }
   ],
   "source": [
    "y = np.array([18.7, 18.7, 18.7, 18.7])\n",
    "y_err = np.array([0.05, 0.05, 0.05, 0.05])\n",
    "\n",
    "weighted_mean_chi2(y, y_err, True)"
   ]
  },
  {
   "cell_type": "markdown",
   "metadata": {},
   "source": [
    "### Gate 2"
   ]
  },
  {
   "cell_type": "code",
   "execution_count": 50,
   "metadata": {},
   "outputs": [
    {
     "data": {
      "text/plain": [
       "(36.4375000215297, 0.02500000000037349, 0.7500000000008694, 0.8613850804043353)"
      ]
     },
     "execution_count": 50,
     "metadata": {},
     "output_type": "execute_result"
    }
   ],
   "source": [
    "y = np.array([36.45, 36.4, 36.45, 36.45])\n",
    "y_err = np.array([0.05, 0.05, 0.05, 0.05])\n",
    "\n",
    "weighted_mean_chi2(y, y_err, True)"
   ]
  },
  {
   "cell_type": "markdown",
   "metadata": {},
   "source": [
    "### Gate 3"
   ]
  },
  {
   "cell_type": "code",
   "execution_count": 52,
   "metadata": {},
   "outputs": [
    {
     "data": {
      "text/plain": [
       "(54.65000002329698, 0.025000000000266684, 8.683991339586002e-13, 1.0)"
      ]
     },
     "execution_count": 52,
     "metadata": {},
     "output_type": "execute_result"
    }
   ],
   "source": [
    "y = np.array([54.65, 54.65, 54.65, 54.65])\n",
    "y_err = np.array([0.05, 0.05, 0.05, 0.05])\n",
    "\n",
    "weighted_mean_chi2(y, y_err, True)"
   ]
  },
  {
   "cell_type": "markdown",
   "metadata": {},
   "source": [
    "### Gate 4"
   ]
  },
  {
   "cell_type": "code",
   "execution_count": 53,
   "metadata": {},
   "outputs": [
    {
     "data": {
      "text/plain": [
       "(73.49999997979903, 0.024999999999885163, 6.529268032902419e-13, 1.0)"
      ]
     },
     "execution_count": 53,
     "metadata": {},
     "output_type": "execute_result"
    }
   ],
   "source": [
    "y = np.array([73.50, 73.50, 73.50, 73.50])\n",
    "y_err = np.array([0.05, 0.05, 0.05, 0.05])\n",
    "\n",
    "weighted_mean_chi2(y, y_err, True)"
   ]
  },
  {
   "cell_type": "markdown",
   "metadata": {},
   "source": [
    "### Gate 5"
   ]
  },
  {
   "cell_type": "code",
   "execution_count": 54,
   "metadata": {},
   "outputs": [
    {
     "data": {
      "text/plain": [
       "(91.2300000029353, 0.025000000000105646, 1.3785527717038223e-14, 1.0)"
      ]
     },
     "execution_count": 54,
     "metadata": {},
     "output_type": "execute_result"
    }
   ],
   "source": [
    "y = np.array([91.23, 91.23, 91.23, 91.23])\n",
    "y_err = np.array([0.05, 0.05, 0.05, 0.05])\n",
    "\n",
    "weighted_mean_chi2(y, y_err, True)"
   ]
  }
 ],
 "metadata": {
  "kernelspec": {
   "display_name": "Python 3.10.6 ('venv': venv)",
   "language": "python",
   "name": "python3"
  },
  "language_info": {
   "codemirror_mode": {
    "name": "ipython",
    "version": 3
   },
   "file_extension": ".py",
   "mimetype": "text/x-python",
   "name": "python",
   "nbconvert_exporter": "python",
   "pygments_lexer": "ipython3",
   "version": "3.10.6"
  },
  "orig_nbformat": 4,
  "vscode": {
   "interpreter": {
    "hash": "f2d268d675ca17252faa7cf7f74010f9d45525e06b0c16d35f16b67ed023ebec"
   }
  }
 },
 "nbformat": 4,
 "nbformat_minor": 2
}
